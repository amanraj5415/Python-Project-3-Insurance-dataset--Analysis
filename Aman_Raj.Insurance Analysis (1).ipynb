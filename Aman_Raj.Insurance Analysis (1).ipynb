{
 "cells": [
  {
   "cell_type": "markdown",
   "id": "af3c824f",
   "metadata": {},
   "source": [
    "## Data Loading and Cleaning"
   ]
  },
  {
   "cell_type": "code",
   "execution_count": 1,
   "id": "c0a0e116",
   "metadata": {},
   "outputs": [],
   "source": [
    "import numpy as np\n",
    "import pandas as pd\n",
    "import matplotlib.pyplot as plt\n",
    "import seaborn as sns"
   ]
  },
  {
   "cell_type": "code",
   "execution_count": 2,
   "id": "71db5a97",
   "metadata": {},
   "outputs": [
    {
     "data": {
      "text/html": [
       "<div>\n",
       "<style scoped>\n",
       "    .dataframe tbody tr th:only-of-type {\n",
       "        vertical-align: middle;\n",
       "    }\n",
       "\n",
       "    .dataframe tbody tr th {\n",
       "        vertical-align: top;\n",
       "    }\n",
       "\n",
       "    .dataframe thead th {\n",
       "        text-align: right;\n",
       "    }\n",
       "</style>\n",
       "<table border=\"1\" class=\"dataframe\">\n",
       "  <thead>\n",
       "    <tr style=\"text-align: right;\">\n",
       "      <th></th>\n",
       "      <th>Area_Service</th>\n",
       "      <th>Hospital County</th>\n",
       "      <th>Hospital Id</th>\n",
       "      <th>Age</th>\n",
       "      <th>Gender</th>\n",
       "      <th>Cultural_group</th>\n",
       "      <th>ethnicity</th>\n",
       "      <th>Days_spend_hsptl</th>\n",
       "      <th>Admission_type</th>\n",
       "      <th>Home or self care,</th>\n",
       "      <th>ccs_diagnosis_code</th>\n",
       "      <th>ccs_procedure_code</th>\n",
       "      <th>apr_drg_description</th>\n",
       "      <th>Code_illness</th>\n",
       "      <th>Mortality risk</th>\n",
       "      <th>Surg_Description</th>\n",
       "      <th>Weight_baby</th>\n",
       "      <th>Abortion</th>\n",
       "      <th>Emergency dept_yes/No</th>\n",
       "      <th>Tot_charg</th>\n",
       "      <th>Tot_cost</th>\n",
       "      <th>ratio_of_total_costs_to_total_charges</th>\n",
       "      <th>Result</th>\n",
       "      <th>Payment_Typology</th>\n",
       "    </tr>\n",
       "  </thead>\n",
       "  <tbody>\n",
       "    <tr>\n",
       "      <th>0</th>\n",
       "      <td>Western NY</td>\n",
       "      <td>Allegany</td>\n",
       "      <td>37.0</td>\n",
       "      <td>30 to 49</td>\n",
       "      <td>F</td>\n",
       "      <td>White</td>\n",
       "      <td>Not Span/Hispanic</td>\n",
       "      <td>4</td>\n",
       "      <td>Elective</td>\n",
       "      <td>Home or Self Care</td>\n",
       "      <td>122</td>\n",
       "      <td>0</td>\n",
       "      <td>Other pneumonia</td>\n",
       "      <td>1</td>\n",
       "      <td>1.0</td>\n",
       "      <td>Medical</td>\n",
       "      <td>0</td>\n",
       "      <td>N</td>\n",
       "      <td>Y</td>\n",
       "      <td>5511.95</td>\n",
       "      <td>5582.49</td>\n",
       "      <td>1.012798</td>\n",
       "      <td>1</td>\n",
       "      <td>1</td>\n",
       "    </tr>\n",
       "    <tr>\n",
       "      <th>1</th>\n",
       "      <td>Western NY</td>\n",
       "      <td>Allegany</td>\n",
       "      <td>37.0</td>\n",
       "      <td>70 or Older</td>\n",
       "      <td>F</td>\n",
       "      <td>White</td>\n",
       "      <td>Not Span/Hispanic</td>\n",
       "      <td>4</td>\n",
       "      <td>Urgent</td>\n",
       "      <td>Short-term Hospital</td>\n",
       "      <td>197</td>\n",
       "      <td>0</td>\n",
       "      <td>Cellulitis &amp; other skin infections</td>\n",
       "      <td>3</td>\n",
       "      <td>2.0</td>\n",
       "      <td>Medical</td>\n",
       "      <td>0</td>\n",
       "      <td>N</td>\n",
       "      <td>Y</td>\n",
       "      <td>4783.20</td>\n",
       "      <td>5162.82</td>\n",
       "      <td>1.079365</td>\n",
       "      <td>1</td>\n",
       "      <td>1</td>\n",
       "    </tr>\n",
       "    <tr>\n",
       "      <th>2</th>\n",
       "      <td>Western NY</td>\n",
       "      <td>Allegany</td>\n",
       "      <td>37.0</td>\n",
       "      <td>30 to 49</td>\n",
       "      <td>F</td>\n",
       "      <td>White</td>\n",
       "      <td>Not Span/Hispanic</td>\n",
       "      <td>3</td>\n",
       "      <td>Urgent</td>\n",
       "      <td>Home or Self Care</td>\n",
       "      <td>122</td>\n",
       "      <td>0</td>\n",
       "      <td>Other pneumonia</td>\n",
       "      <td>1</td>\n",
       "      <td>1.0</td>\n",
       "      <td>Medical</td>\n",
       "      <td>0</td>\n",
       "      <td>N</td>\n",
       "      <td>Y</td>\n",
       "      <td>3829.15</td>\n",
       "      <td>4056.52</td>\n",
       "      <td>1.059379</td>\n",
       "      <td>1</td>\n",
       "      <td>1</td>\n",
       "    </tr>\n",
       "    <tr>\n",
       "      <th>3</th>\n",
       "      <td>Western NY</td>\n",
       "      <td>Allegany</td>\n",
       "      <td>37.0</td>\n",
       "      <td>0 to 17</td>\n",
       "      <td>F</td>\n",
       "      <td>White</td>\n",
       "      <td>Not Span/Hispanic</td>\n",
       "      <td>1</td>\n",
       "      <td>Urgent</td>\n",
       "      <td>Home or Self Care</td>\n",
       "      <td>122</td>\n",
       "      <td>0</td>\n",
       "      <td>Other pneumonia</td>\n",
       "      <td>1</td>\n",
       "      <td>1.0</td>\n",
       "      <td>Medical</td>\n",
       "      <td>0</td>\n",
       "      <td>N</td>\n",
       "      <td>Y</td>\n",
       "      <td>1108.20</td>\n",
       "      <td>1644.75</td>\n",
       "      <td>1.484167</td>\n",
       "      <td>0</td>\n",
       "      <td>1</td>\n",
       "    </tr>\n",
       "    <tr>\n",
       "      <th>4</th>\n",
       "      <td>Western NY</td>\n",
       "      <td>Allegany</td>\n",
       "      <td>37.0</td>\n",
       "      <td>70 or Older</td>\n",
       "      <td>F</td>\n",
       "      <td>White</td>\n",
       "      <td>Not Span/Hispanic</td>\n",
       "      <td>3</td>\n",
       "      <td>Elective</td>\n",
       "      <td>Home or Self Care</td>\n",
       "      <td>122</td>\n",
       "      <td>0</td>\n",
       "      <td>Other pneumonia</td>\n",
       "      <td>2</td>\n",
       "      <td>3.0</td>\n",
       "      <td>Medical</td>\n",
       "      <td>0</td>\n",
       "      <td>N</td>\n",
       "      <td>Y</td>\n",
       "      <td>3418.18</td>\n",
       "      <td>3370.87</td>\n",
       "      <td>0.986161</td>\n",
       "      <td>1</td>\n",
       "      <td>1</td>\n",
       "    </tr>\n",
       "    <tr>\n",
       "      <th>...</th>\n",
       "      <td>...</td>\n",
       "      <td>...</td>\n",
       "      <td>...</td>\n",
       "      <td>...</td>\n",
       "      <td>...</td>\n",
       "      <td>...</td>\n",
       "      <td>...</td>\n",
       "      <td>...</td>\n",
       "      <td>...</td>\n",
       "      <td>...</td>\n",
       "      <td>...</td>\n",
       "      <td>...</td>\n",
       "      <td>...</td>\n",
       "      <td>...</td>\n",
       "      <td>...</td>\n",
       "      <td>...</td>\n",
       "      <td>...</td>\n",
       "      <td>...</td>\n",
       "      <td>...</td>\n",
       "      <td>...</td>\n",
       "      <td>...</td>\n",
       "      <td>...</td>\n",
       "      <td>...</td>\n",
       "      <td>...</td>\n",
       "    </tr>\n",
       "    <tr>\n",
       "      <th>1048570</th>\n",
       "      <td>New York City</td>\n",
       "      <td>Bronx</td>\n",
       "      <td>1169.0</td>\n",
       "      <td>70 or Older</td>\n",
       "      <td>F</td>\n",
       "      <td>Other Race</td>\n",
       "      <td>Spanish/Hispanic</td>\n",
       "      <td>6</td>\n",
       "      <td>Emergency</td>\n",
       "      <td>Skilled Nursing Home</td>\n",
       "      <td>106</td>\n",
       "      <td>29</td>\n",
       "      <td>Cardiac arrhythmia &amp; conduction disorders</td>\n",
       "      <td>2</td>\n",
       "      <td>3.0</td>\n",
       "      <td>Medical</td>\n",
       "      <td>0</td>\n",
       "      <td>N</td>\n",
       "      <td>Y</td>\n",
       "      <td>69650.41</td>\n",
       "      <td>13896.82</td>\n",
       "      <td>0.199522</td>\n",
       "      <td>1</td>\n",
       "      <td>3</td>\n",
       "    </tr>\n",
       "    <tr>\n",
       "      <th>1048571</th>\n",
       "      <td>New York City</td>\n",
       "      <td>Bronx</td>\n",
       "      <td>1169.0</td>\n",
       "      <td>0 to 17</td>\n",
       "      <td>F</td>\n",
       "      <td>Other Race</td>\n",
       "      <td>Not Span/Hispanic</td>\n",
       "      <td>2</td>\n",
       "      <td>Emergency</td>\n",
       "      <td>Home or Self Care</td>\n",
       "      <td>8</td>\n",
       "      <td>231</td>\n",
       "      <td>Other infectious &amp; parasitic diseases</td>\n",
       "      <td>2</td>\n",
       "      <td>1.0</td>\n",
       "      <td>Medical</td>\n",
       "      <td>0</td>\n",
       "      <td>N</td>\n",
       "      <td>N</td>\n",
       "      <td>13587.38</td>\n",
       "      <td>3918.35</td>\n",
       "      <td>0.288382</td>\n",
       "      <td>1</td>\n",
       "      <td>3</td>\n",
       "    </tr>\n",
       "    <tr>\n",
       "      <th>1048572</th>\n",
       "      <td>New York City</td>\n",
       "      <td>Bronx</td>\n",
       "      <td>1169.0</td>\n",
       "      <td>50 to 69</td>\n",
       "      <td>M</td>\n",
       "      <td>Other Race</td>\n",
       "      <td>Spanish/Hispanic</td>\n",
       "      <td>13</td>\n",
       "      <td>Emergency</td>\n",
       "      <td>Medicare Cert Long Term Care Hospital</td>\n",
       "      <td>151</td>\n",
       "      <td>88</td>\n",
       "      <td>Hepatic coma &amp; other major acute liver disorders</td>\n",
       "      <td>4</td>\n",
       "      <td>4.0</td>\n",
       "      <td>Medical</td>\n",
       "      <td>0</td>\n",
       "      <td>N</td>\n",
       "      <td>Y</td>\n",
       "      <td>104629.78</td>\n",
       "      <td>24746.64</td>\n",
       "      <td>0.236516</td>\n",
       "      <td>0</td>\n",
       "      <td>3</td>\n",
       "    </tr>\n",
       "    <tr>\n",
       "      <th>1048573</th>\n",
       "      <td>New York City</td>\n",
       "      <td>Bronx</td>\n",
       "      <td>1169.0</td>\n",
       "      <td>30 to 49</td>\n",
       "      <td>F</td>\n",
       "      <td>Black/African American</td>\n",
       "      <td>Not Span/Hispanic</td>\n",
       "      <td>2</td>\n",
       "      <td>Emergency</td>\n",
       "      <td>Home or Self Care</td>\n",
       "      <td>143</td>\n",
       "      <td>86</td>\n",
       "      <td>Inguinal, femoral &amp; umbilical hernia procedures</td>\n",
       "      <td>1</td>\n",
       "      <td>1.0</td>\n",
       "      <td>Surgical</td>\n",
       "      <td>0</td>\n",
       "      <td>N</td>\n",
       "      <td>Y</td>\n",
       "      <td>27521.41</td>\n",
       "      <td>6766.04</td>\n",
       "      <td>0.245846</td>\n",
       "      <td>1</td>\n",
       "      <td>3</td>\n",
       "    </tr>\n",
       "    <tr>\n",
       "      <th>1048574</th>\n",
       "      <td>New York City</td>\n",
       "      <td>Bronx</td>\n",
       "      <td>1169.0</td>\n",
       "      <td>50 to 69</td>\n",
       "      <td>M</td>\n",
       "      <td>Other Race</td>\n",
       "      <td>Spanish/Hispanic</td>\n",
       "      <td>2</td>\n",
       "      <td>Emergency</td>\n",
       "      <td>Home or Self Care</td>\n",
       "      <td>106</td>\n",
       "      <td>0</td>\n",
       "      <td>Cardiac arrhythmia &amp; conduction disorders</td>\n",
       "      <td>1</td>\n",
       "      <td>1.0</td>\n",
       "      <td>Medical</td>\n",
       "      <td>0</td>\n",
       "      <td>N</td>\n",
       "      <td>Y</td>\n",
       "      <td>24832.23</td>\n",
       "      <td>4974.66</td>\n",
       "      <td>0.200331</td>\n",
       "      <td>1</td>\n",
       "      <td>2</td>\n",
       "    </tr>\n",
       "  </tbody>\n",
       "</table>\n",
       "<p>1048575 rows × 24 columns</p>\n",
       "</div>"
      ],
      "text/plain": [
       "          Area_Service Hospital County  Hospital Id          Age Gender  \\\n",
       "0           Western NY        Allegany         37.0     30 to 49      F   \n",
       "1           Western NY        Allegany         37.0  70 or Older      F   \n",
       "2           Western NY        Allegany         37.0     30 to 49      F   \n",
       "3           Western NY        Allegany         37.0      0 to 17      F   \n",
       "4           Western NY        Allegany         37.0  70 or Older      F   \n",
       "...                ...             ...          ...          ...    ...   \n",
       "1048570  New York City           Bronx       1169.0  70 or Older      F   \n",
       "1048571  New York City           Bronx       1169.0      0 to 17      F   \n",
       "1048572  New York City           Bronx       1169.0     50 to 69      M   \n",
       "1048573  New York City           Bronx       1169.0     30 to 49      F   \n",
       "1048574  New York City           Bronx       1169.0     50 to 69      M   \n",
       "\n",
       "                 Cultural_group          ethnicity Days_spend_hsptl  \\\n",
       "0                         White  Not Span/Hispanic                4   \n",
       "1                         White  Not Span/Hispanic                4   \n",
       "2                         White  Not Span/Hispanic                3   \n",
       "3                         White  Not Span/Hispanic                1   \n",
       "4                         White  Not Span/Hispanic                3   \n",
       "...                         ...                ...              ...   \n",
       "1048570              Other Race   Spanish/Hispanic                6   \n",
       "1048571              Other Race  Not Span/Hispanic                2   \n",
       "1048572              Other Race   Spanish/Hispanic               13   \n",
       "1048573  Black/African American  Not Span/Hispanic                2   \n",
       "1048574              Other Race   Spanish/Hispanic                2   \n",
       "\n",
       "        Admission_type                     Home or self care,  \\\n",
       "0             Elective                      Home or Self Care   \n",
       "1               Urgent                    Short-term Hospital   \n",
       "2               Urgent                      Home or Self Care   \n",
       "3               Urgent                      Home or Self Care   \n",
       "4             Elective                      Home or Self Care   \n",
       "...                ...                                    ...   \n",
       "1048570      Emergency                   Skilled Nursing Home   \n",
       "1048571      Emergency                      Home or Self Care   \n",
       "1048572      Emergency  Medicare Cert Long Term Care Hospital   \n",
       "1048573      Emergency                      Home or Self Care   \n",
       "1048574      Emergency                      Home or Self Care   \n",
       "\n",
       "         ccs_diagnosis_code  ccs_procedure_code  \\\n",
       "0                       122                   0   \n",
       "1                       197                   0   \n",
       "2                       122                   0   \n",
       "3                       122                   0   \n",
       "4                       122                   0   \n",
       "...                     ...                 ...   \n",
       "1048570                 106                  29   \n",
       "1048571                   8                 231   \n",
       "1048572                 151                  88   \n",
       "1048573                 143                  86   \n",
       "1048574                 106                   0   \n",
       "\n",
       "                                      apr_drg_description  Code_illness  \\\n",
       "0                                         Other pneumonia             1   \n",
       "1                      Cellulitis & other skin infections             3   \n",
       "2                                         Other pneumonia             1   \n",
       "3                                         Other pneumonia             1   \n",
       "4                                         Other pneumonia             2   \n",
       "...                                                   ...           ...   \n",
       "1048570         Cardiac arrhythmia & conduction disorders             2   \n",
       "1048571             Other infectious & parasitic diseases             2   \n",
       "1048572  Hepatic coma & other major acute liver disorders             4   \n",
       "1048573   Inguinal, femoral & umbilical hernia procedures             1   \n",
       "1048574         Cardiac arrhythmia & conduction disorders             1   \n",
       "\n",
       "         Mortality risk Surg_Description  Weight_baby Abortion  \\\n",
       "0                   1.0          Medical            0        N   \n",
       "1                   2.0          Medical            0        N   \n",
       "2                   1.0          Medical            0        N   \n",
       "3                   1.0          Medical            0        N   \n",
       "4                   3.0          Medical            0        N   \n",
       "...                 ...              ...          ...      ...   \n",
       "1048570             3.0          Medical            0        N   \n",
       "1048571             1.0          Medical            0        N   \n",
       "1048572             4.0          Medical            0        N   \n",
       "1048573             1.0         Surgical            0        N   \n",
       "1048574             1.0          Medical            0        N   \n",
       "\n",
       "        Emergency dept_yes/No  Tot_charg  Tot_cost  \\\n",
       "0                           Y    5511.95   5582.49   \n",
       "1                           Y    4783.20   5162.82   \n",
       "2                           Y    3829.15   4056.52   \n",
       "3                           Y    1108.20   1644.75   \n",
       "4                           Y    3418.18   3370.87   \n",
       "...                       ...        ...       ...   \n",
       "1048570                     Y   69650.41  13896.82   \n",
       "1048571                     N   13587.38   3918.35   \n",
       "1048572                     Y  104629.78  24746.64   \n",
       "1048573                     Y   27521.41   6766.04   \n",
       "1048574                     Y   24832.23   4974.66   \n",
       "\n",
       "         ratio_of_total_costs_to_total_charges  Result  Payment_Typology  \n",
       "0                                     1.012798       1                 1  \n",
       "1                                     1.079365       1                 1  \n",
       "2                                     1.059379       1                 1  \n",
       "3                                     1.484167       0                 1  \n",
       "4                                     0.986161       1                 1  \n",
       "...                                        ...     ...               ...  \n",
       "1048570                               0.199522       1                 3  \n",
       "1048571                               0.288382       1                 3  \n",
       "1048572                               0.236516       0                 3  \n",
       "1048573                               0.245846       1                 3  \n",
       "1048574                               0.200331       1                 2  \n",
       "\n",
       "[1048575 rows x 24 columns]"
      ]
     },
     "execution_count": 2,
     "metadata": {},
     "output_type": "execute_result"
    }
   ],
   "source": [
    "pd.set_option('display.max_columns',None)\n",
    "ins_df= pd.read_csv(r\"C:\\Users\\lenovo\\Downloads\\Insurance Dataset.csv\")\n",
    "ins_df"
   ]
  },
  {
   "cell_type": "code",
   "execution_count": 3,
   "id": "affb5a04",
   "metadata": {},
   "outputs": [
    {
     "data": {
      "text/plain": [
       "Area_Service                             2456\n",
       "Hospital County                          2456\n",
       "Hospital Id                              2456\n",
       "Age                                         0\n",
       "Gender                                      0\n",
       "Cultural_group                              0\n",
       "ethnicity                                   0\n",
       "Days_spend_hsptl                            0\n",
       "Admission_type                              0\n",
       "Home or self care,                          0\n",
       "ccs_diagnosis_code                          0\n",
       "ccs_procedure_code                          0\n",
       "apr_drg_description                         0\n",
       "Code_illness                                0\n",
       "Mortality risk                             42\n",
       "Surg_Description                            0\n",
       "Weight_baby                                 0\n",
       "Abortion                                    0\n",
       "Emergency dept_yes/No                       0\n",
       "Tot_charg                                   0\n",
       "Tot_cost                                    0\n",
       "ratio_of_total_costs_to_total_charges       0\n",
       "Result                                      0\n",
       "Payment_Typology                            0\n",
       "dtype: int64"
      ]
     },
     "execution_count": 3,
     "metadata": {},
     "output_type": "execute_result"
    }
   ],
   "source": [
    "# check null values in each column\n",
    "ins_df.isnull().sum()"
   ]
  },
  {
   "cell_type": "code",
   "execution_count": 4,
   "id": "b8fe8cc7",
   "metadata": {},
   "outputs": [],
   "source": [
    "# remove null values\n",
    "ins_df['Area_Service'].fillna(ins_df['Area_Service'].mode().iloc[0], inplace= True)\n",
    "ins_df['Hospital County'].fillna(ins_df['Hospital County'].mode().iloc[0], inplace= True)\n",
    "ins_df['Hospital Id'].fillna(ins_df['Hospital Id'].median(), inplace= True)\n",
    "ins_df['Mortality risk'].fillna(ins_df['Mortality risk'].median(), inplace= True)"
   ]
  },
  {
   "cell_type": "code",
   "execution_count": 5,
   "id": "43d01a95",
   "metadata": {},
   "outputs": [
    {
     "data": {
      "text/plain": [
       "Area_Service                             0\n",
       "Hospital County                          0\n",
       "Hospital Id                              0\n",
       "Age                                      0\n",
       "Gender                                   0\n",
       "Cultural_group                           0\n",
       "ethnicity                                0\n",
       "Days_spend_hsptl                         0\n",
       "Admission_type                           0\n",
       "Home or self care,                       0\n",
       "ccs_diagnosis_code                       0\n",
       "ccs_procedure_code                       0\n",
       "apr_drg_description                      0\n",
       "Code_illness                             0\n",
       "Mortality risk                           0\n",
       "Surg_Description                         0\n",
       "Weight_baby                              0\n",
       "Abortion                                 0\n",
       "Emergency dept_yes/No                    0\n",
       "Tot_charg                                0\n",
       "Tot_cost                                 0\n",
       "ratio_of_total_costs_to_total_charges    0\n",
       "Result                                   0\n",
       "Payment_Typology                         0\n",
       "dtype: int64"
      ]
     },
     "execution_count": 5,
     "metadata": {},
     "output_type": "execute_result"
    }
   ],
   "source": [
    "# Now again check null values \n",
    "ins_df.isnull().sum()"
   ]
  },
  {
   "cell_type": "code",
   "execution_count": 6,
   "id": "fb85f719",
   "metadata": {},
   "outputs": [
    {
     "data": {
      "text/html": [
       "<div>\n",
       "<style scoped>\n",
       "    .dataframe tbody tr th:only-of-type {\n",
       "        vertical-align: middle;\n",
       "    }\n",
       "\n",
       "    .dataframe tbody tr th {\n",
       "        vertical-align: top;\n",
       "    }\n",
       "\n",
       "    .dataframe thead th {\n",
       "        text-align: right;\n",
       "    }\n",
       "</style>\n",
       "<table border=\"1\" class=\"dataframe\">\n",
       "  <thead>\n",
       "    <tr style=\"text-align: right;\">\n",
       "      <th></th>\n",
       "      <th>Area_Service</th>\n",
       "      <th>Hospital County</th>\n",
       "      <th>Hospital Id</th>\n",
       "      <th>Age</th>\n",
       "      <th>Gender</th>\n",
       "      <th>Cultural_group</th>\n",
       "      <th>ethnicity</th>\n",
       "      <th>Days_spend_hsptl</th>\n",
       "      <th>Admission_type</th>\n",
       "      <th>Home or self care,</th>\n",
       "      <th>ccs_diagnosis_code</th>\n",
       "      <th>ccs_procedure_code</th>\n",
       "      <th>apr_drg_description</th>\n",
       "      <th>Code_illness</th>\n",
       "      <th>Mortality risk</th>\n",
       "      <th>Surg_Description</th>\n",
       "      <th>Weight_baby</th>\n",
       "      <th>Abortion</th>\n",
       "      <th>Emergency dept_yes/No</th>\n",
       "      <th>Tot_charg</th>\n",
       "      <th>Tot_cost</th>\n",
       "      <th>ratio_of_total_costs_to_total_charges</th>\n",
       "      <th>Result</th>\n",
       "      <th>Payment_Typology</th>\n",
       "    </tr>\n",
       "  </thead>\n",
       "  <tbody>\n",
       "    <tr>\n",
       "      <th>0</th>\n",
       "      <td>Western NY</td>\n",
       "      <td>Allegany</td>\n",
       "      <td>37.0</td>\n",
       "      <td>30 to 49</td>\n",
       "      <td>F</td>\n",
       "      <td>White</td>\n",
       "      <td>Not Span/Hispanic</td>\n",
       "      <td>4</td>\n",
       "      <td>Elective</td>\n",
       "      <td>Home or Self Care</td>\n",
       "      <td>122</td>\n",
       "      <td>0</td>\n",
       "      <td>Other pneumonia</td>\n",
       "      <td>1</td>\n",
       "      <td>1.0</td>\n",
       "      <td>Medical</td>\n",
       "      <td>200</td>\n",
       "      <td>N</td>\n",
       "      <td>Y</td>\n",
       "      <td>5511.95</td>\n",
       "      <td>5582.49</td>\n",
       "      <td>1.012798</td>\n",
       "      <td>1</td>\n",
       "      <td>1</td>\n",
       "    </tr>\n",
       "    <tr>\n",
       "      <th>1</th>\n",
       "      <td>Western NY</td>\n",
       "      <td>Allegany</td>\n",
       "      <td>37.0</td>\n",
       "      <td>70 or Older</td>\n",
       "      <td>F</td>\n",
       "      <td>White</td>\n",
       "      <td>Not Span/Hispanic</td>\n",
       "      <td>4</td>\n",
       "      <td>Urgent</td>\n",
       "      <td>Short-term Hospital</td>\n",
       "      <td>197</td>\n",
       "      <td>0</td>\n",
       "      <td>Cellulitis &amp; other skin infections</td>\n",
       "      <td>3</td>\n",
       "      <td>2.0</td>\n",
       "      <td>Medical</td>\n",
       "      <td>200</td>\n",
       "      <td>N</td>\n",
       "      <td>Y</td>\n",
       "      <td>4783.20</td>\n",
       "      <td>5162.82</td>\n",
       "      <td>1.079365</td>\n",
       "      <td>1</td>\n",
       "      <td>1</td>\n",
       "    </tr>\n",
       "    <tr>\n",
       "      <th>2</th>\n",
       "      <td>Western NY</td>\n",
       "      <td>Allegany</td>\n",
       "      <td>37.0</td>\n",
       "      <td>30 to 49</td>\n",
       "      <td>F</td>\n",
       "      <td>White</td>\n",
       "      <td>Not Span/Hispanic</td>\n",
       "      <td>3</td>\n",
       "      <td>Urgent</td>\n",
       "      <td>Home or Self Care</td>\n",
       "      <td>122</td>\n",
       "      <td>0</td>\n",
       "      <td>Other pneumonia</td>\n",
       "      <td>1</td>\n",
       "      <td>1.0</td>\n",
       "      <td>Medical</td>\n",
       "      <td>200</td>\n",
       "      <td>N</td>\n",
       "      <td>Y</td>\n",
       "      <td>3829.15</td>\n",
       "      <td>4056.52</td>\n",
       "      <td>1.059379</td>\n",
       "      <td>1</td>\n",
       "      <td>1</td>\n",
       "    </tr>\n",
       "    <tr>\n",
       "      <th>3</th>\n",
       "      <td>Western NY</td>\n",
       "      <td>Allegany</td>\n",
       "      <td>37.0</td>\n",
       "      <td>0 to 17</td>\n",
       "      <td>F</td>\n",
       "      <td>White</td>\n",
       "      <td>Not Span/Hispanic</td>\n",
       "      <td>1</td>\n",
       "      <td>Urgent</td>\n",
       "      <td>Home or Self Care</td>\n",
       "      <td>122</td>\n",
       "      <td>0</td>\n",
       "      <td>Other pneumonia</td>\n",
       "      <td>1</td>\n",
       "      <td>1.0</td>\n",
       "      <td>Medical</td>\n",
       "      <td>200</td>\n",
       "      <td>N</td>\n",
       "      <td>Y</td>\n",
       "      <td>1108.20</td>\n",
       "      <td>1644.75</td>\n",
       "      <td>1.484167</td>\n",
       "      <td>0</td>\n",
       "      <td>1</td>\n",
       "    </tr>\n",
       "  </tbody>\n",
       "</table>\n",
       "</div>"
      ],
      "text/plain": [
       "  Area_Service Hospital County  Hospital Id          Age Gender  \\\n",
       "0   Western NY        Allegany         37.0     30 to 49      F   \n",
       "1   Western NY        Allegany         37.0  70 or Older      F   \n",
       "2   Western NY        Allegany         37.0     30 to 49      F   \n",
       "3   Western NY        Allegany         37.0      0 to 17      F   \n",
       "\n",
       "  Cultural_group          ethnicity Days_spend_hsptl Admission_type  \\\n",
       "0          White  Not Span/Hispanic                4       Elective   \n",
       "1          White  Not Span/Hispanic                4         Urgent   \n",
       "2          White  Not Span/Hispanic                3         Urgent   \n",
       "3          White  Not Span/Hispanic                1         Urgent   \n",
       "\n",
       "    Home or self care,  ccs_diagnosis_code  ccs_procedure_code  \\\n",
       "0    Home or Self Care                 122                   0   \n",
       "1  Short-term Hospital                 197                   0   \n",
       "2    Home or Self Care                 122                   0   \n",
       "3    Home or Self Care                 122                   0   \n",
       "\n",
       "                  apr_drg_description  Code_illness  Mortality risk  \\\n",
       "0                     Other pneumonia             1             1.0   \n",
       "1  Cellulitis & other skin infections             3             2.0   \n",
       "2                     Other pneumonia             1             1.0   \n",
       "3                     Other pneumonia             1             1.0   \n",
       "\n",
       "  Surg_Description  Weight_baby Abortion Emergency dept_yes/No  Tot_charg  \\\n",
       "0          Medical          200        N                     Y    5511.95   \n",
       "1          Medical          200        N                     Y    4783.20   \n",
       "2          Medical          200        N                     Y    3829.15   \n",
       "3          Medical          200        N                     Y    1108.20   \n",
       "\n",
       "   Tot_cost  ratio_of_total_costs_to_total_charges  Result  Payment_Typology  \n",
       "0   5582.49                               1.012798       1                 1  \n",
       "1   5162.82                               1.079365       1                 1  \n",
       "2   4056.52                               1.059379       1                 1  \n",
       "3   1644.75                               1.484167       0                 1  "
      ]
     },
     "execution_count": 6,
     "metadata": {},
     "output_type": "execute_result"
    }
   ],
   "source": [
    "# replace wight_baby(0) to weight_baby(200)\n",
    "ins_df.loc[ins_df['Weight_baby']== 0,'Weight_baby']=200\n",
    "ins_df.head(4)"
   ]
  },
  {
   "cell_type": "code",
   "execution_count": 7,
   "id": "e47cfd98",
   "metadata": {},
   "outputs": [
    {
     "data": {
      "text/html": [
       "<div>\n",
       "<style scoped>\n",
       "    .dataframe tbody tr th:only-of-type {\n",
       "        vertical-align: middle;\n",
       "    }\n",
       "\n",
       "    .dataframe tbody tr th {\n",
       "        vertical-align: top;\n",
       "    }\n",
       "\n",
       "    .dataframe thead th {\n",
       "        text-align: right;\n",
       "    }\n",
       "</style>\n",
       "<table border=\"1\" class=\"dataframe\">\n",
       "  <thead>\n",
       "    <tr style=\"text-align: right;\">\n",
       "      <th></th>\n",
       "      <th>Area_Service</th>\n",
       "      <th>Hospital County</th>\n",
       "      <th>Hospital Id</th>\n",
       "      <th>Age</th>\n",
       "      <th>Gender</th>\n",
       "      <th>Cultural_group</th>\n",
       "      <th>ethnicity</th>\n",
       "      <th>Days_spend_hsptl</th>\n",
       "      <th>Admission_type</th>\n",
       "      <th>Home or self care,</th>\n",
       "      <th>ccs_diagnosis_code</th>\n",
       "      <th>ccs_procedure_code</th>\n",
       "      <th>apr_drg_description</th>\n",
       "      <th>Code_illness</th>\n",
       "      <th>Mortality risk</th>\n",
       "      <th>Surg_Description</th>\n",
       "      <th>Weight_baby</th>\n",
       "      <th>Abortion</th>\n",
       "      <th>Emergency dept_yes/No</th>\n",
       "      <th>Tot_charg</th>\n",
       "      <th>Tot_cost</th>\n",
       "      <th>ratio_of_total_costs_to_total_charges</th>\n",
       "      <th>Result</th>\n",
       "      <th>Payment_Typology</th>\n",
       "    </tr>\n",
       "  </thead>\n",
       "  <tbody>\n",
       "    <tr>\n",
       "      <th>0</th>\n",
       "      <td>Western NY</td>\n",
       "      <td>Allegany</td>\n",
       "      <td>37.0</td>\n",
       "      <td>30 to 49</td>\n",
       "      <td>F</td>\n",
       "      <td>White</td>\n",
       "      <td>Not Span/Hispanic</td>\n",
       "      <td>4</td>\n",
       "      <td>Elective</td>\n",
       "      <td>Home or Self Care</td>\n",
       "      <td>122</td>\n",
       "      <td>0</td>\n",
       "      <td>Other pneumonia</td>\n",
       "      <td>1</td>\n",
       "      <td>1.0</td>\n",
       "      <td>Medical</td>\n",
       "      <td>200</td>\n",
       "      <td>N</td>\n",
       "      <td>Y</td>\n",
       "      <td>5511.95</td>\n",
       "      <td>5582.49</td>\n",
       "      <td>1.012798</td>\n",
       "      <td>1</td>\n",
       "      <td>1</td>\n",
       "    </tr>\n",
       "    <tr>\n",
       "      <th>1</th>\n",
       "      <td>Western NY</td>\n",
       "      <td>Allegany</td>\n",
       "      <td>37.0</td>\n",
       "      <td>70 or Older</td>\n",
       "      <td>F</td>\n",
       "      <td>White</td>\n",
       "      <td>Not Span/Hispanic</td>\n",
       "      <td>4</td>\n",
       "      <td>Urgent</td>\n",
       "      <td>Short-term Hospital</td>\n",
       "      <td>197</td>\n",
       "      <td>0</td>\n",
       "      <td>Cellulitis &amp; other skin infections</td>\n",
       "      <td>3</td>\n",
       "      <td>2.0</td>\n",
       "      <td>Medical</td>\n",
       "      <td>200</td>\n",
       "      <td>N</td>\n",
       "      <td>Y</td>\n",
       "      <td>4783.20</td>\n",
       "      <td>5162.82</td>\n",
       "      <td>1.079365</td>\n",
       "      <td>1</td>\n",
       "      <td>1</td>\n",
       "    </tr>\n",
       "    <tr>\n",
       "      <th>2</th>\n",
       "      <td>Western NY</td>\n",
       "      <td>Allegany</td>\n",
       "      <td>37.0</td>\n",
       "      <td>30 to 49</td>\n",
       "      <td>F</td>\n",
       "      <td>White</td>\n",
       "      <td>Not Span/Hispanic</td>\n",
       "      <td>3</td>\n",
       "      <td>Urgent</td>\n",
       "      <td>Home or Self Care</td>\n",
       "      <td>122</td>\n",
       "      <td>0</td>\n",
       "      <td>Other pneumonia</td>\n",
       "      <td>1</td>\n",
       "      <td>1.0</td>\n",
       "      <td>Medical</td>\n",
       "      <td>200</td>\n",
       "      <td>N</td>\n",
       "      <td>Y</td>\n",
       "      <td>3829.15</td>\n",
       "      <td>4056.52</td>\n",
       "      <td>1.059379</td>\n",
       "      <td>1</td>\n",
       "      <td>1</td>\n",
       "    </tr>\n",
       "    <tr>\n",
       "      <th>3</th>\n",
       "      <td>Western NY</td>\n",
       "      <td>Allegany</td>\n",
       "      <td>37.0</td>\n",
       "      <td>0 to 17</td>\n",
       "      <td>F</td>\n",
       "      <td>White</td>\n",
       "      <td>Not Span/Hispanic</td>\n",
       "      <td>1</td>\n",
       "      <td>Urgent</td>\n",
       "      <td>Home or Self Care</td>\n",
       "      <td>122</td>\n",
       "      <td>0</td>\n",
       "      <td>Other pneumonia</td>\n",
       "      <td>1</td>\n",
       "      <td>1.0</td>\n",
       "      <td>Medical</td>\n",
       "      <td>200</td>\n",
       "      <td>N</td>\n",
       "      <td>Y</td>\n",
       "      <td>1108.20</td>\n",
       "      <td>1644.75</td>\n",
       "      <td>1.484167</td>\n",
       "      <td>0</td>\n",
       "      <td>1</td>\n",
       "    </tr>\n",
       "  </tbody>\n",
       "</table>\n",
       "</div>"
      ],
      "text/plain": [
       "  Area_Service Hospital County  Hospital Id          Age Gender  \\\n",
       "0   Western NY        Allegany         37.0     30 to 49      F   \n",
       "1   Western NY        Allegany         37.0  70 or Older      F   \n",
       "2   Western NY        Allegany         37.0     30 to 49      F   \n",
       "3   Western NY        Allegany         37.0      0 to 17      F   \n",
       "\n",
       "  Cultural_group          ethnicity Days_spend_hsptl Admission_type  \\\n",
       "0          White  Not Span/Hispanic                4       Elective   \n",
       "1          White  Not Span/Hispanic                4         Urgent   \n",
       "2          White  Not Span/Hispanic                3         Urgent   \n",
       "3          White  Not Span/Hispanic                1         Urgent   \n",
       "\n",
       "    Home or self care,  ccs_diagnosis_code  ccs_procedure_code  \\\n",
       "0    Home or Self Care                 122                   0   \n",
       "1  Short-term Hospital                 197                   0   \n",
       "2    Home or Self Care                 122                   0   \n",
       "3    Home or Self Care                 122                   0   \n",
       "\n",
       "                  apr_drg_description  Code_illness  Mortality risk  \\\n",
       "0                     Other pneumonia             1             1.0   \n",
       "1  Cellulitis & other skin infections             3             2.0   \n",
       "2                     Other pneumonia             1             1.0   \n",
       "3                     Other pneumonia             1             1.0   \n",
       "\n",
       "  Surg_Description  Weight_baby Abortion Emergency dept_yes/No  Tot_charg  \\\n",
       "0          Medical          200        N                     Y    5511.95   \n",
       "1          Medical          200        N                     Y    4783.20   \n",
       "2          Medical          200        N                     Y    3829.15   \n",
       "3          Medical          200        N                     Y    1108.20   \n",
       "\n",
       "   Tot_cost  ratio_of_total_costs_to_total_charges  Result  Payment_Typology  \n",
       "0   5582.49                               1.012798       1                 1  \n",
       "1   5162.82                               1.079365       1                 1  \n",
       "2   4056.52                               1.059379       1                 1  \n",
       "3   1644.75                               1.484167       0                 1  "
      ]
     },
     "execution_count": 7,
     "metadata": {},
     "output_type": "execute_result"
    }
   ],
   "source": [
    "ins_df.loc[ins_df['Weight_baby']== 0,'Weight_baby']=200\n",
    "ins_df.head(4)"
   ]
  },
  {
   "cell_type": "code",
   "execution_count": 8,
   "id": "f3f0585f",
   "metadata": {},
   "outputs": [
    {
     "name": "stdout",
     "output_type": "stream",
     "text": [
      "(1048575, 24)\n"
     ]
    }
   ],
   "source": [
    "# 1. How many rows and columns are in the dataset?\n",
    "print(ins_df.shape)"
   ]
  },
  {
   "cell_type": "code",
   "execution_count": 9,
   "id": "b4413356",
   "metadata": {},
   "outputs": [
    {
     "data": {
      "text/plain": [
       "array(['Western NY', 'Hudson Valley', 'Finger Lakes', 'Central NY',\n",
       "       'Southern Tier', 'Capital/Adirond', 'New York City'], dtype=object)"
      ]
     },
     "execution_count": 9,
     "metadata": {},
     "output_type": "execute_result"
    }
   ],
   "source": [
    "# 2. What are the unique values in the 'Area_Service' column?\n",
    "ins_df['Area_Service'].unique()"
   ]
  },
  {
   "cell_type": "code",
   "execution_count": 10,
   "id": "cf465657",
   "metadata": {},
   "outputs": [
    {
     "data": {
      "text/plain": [
       "Erie           131698\n",
       "Westchester    127008\n",
       "Monroe         110592\n",
       "Onondaga        81249\n",
       "Bronx           74629\n",
       "Albany          61764\n",
       "Orange          39756\n",
       "Rockland        35695\n",
       "Oneida          34165\n",
       "Dutchess        32277\n",
       "Broome          29853\n",
       "Schenectady     23245\n",
       "Niagara         21075\n",
       "Chemung         16735\n",
       "Warren          15557\n",
       "Rensselaer      13889\n",
       "Ulster          13615\n",
       "Otsego          13212\n",
       "Chautauqua      12780\n",
       "St Lawrence     12278\n",
       "Ontario         12024\n",
       "Jefferson       11943\n",
       "Clinton          9923\n",
       "Saratoga         8955\n",
       "Steuben          8831\n",
       "Putnam           7019\n",
       "Tompkins         6992\n",
       "Montgomery       6459\n",
       "Columbia         6332\n",
       "Oswego           6110\n",
       "Franklin         5875\n",
       "Cattaraugus      5793\n",
       "Sullivan         5704\n",
       "Cayuga           5685\n",
       "Madison          5095\n",
       "Genesee          4977\n",
       "Cortland         4888\n",
       "Wayne            4135\n",
       "Fulton           3527\n",
       "Wyoming          2419\n",
       "Livingston       2122\n",
       "Orleans          2102\n",
       "Allegany         2071\n",
       "Chenango         1996\n",
       "Lewis            1925\n",
       "Delaware          976\n",
       "Herkimer          921\n",
       "Yates             897\n",
       "Schuyler          850\n",
       "Schoharie         514\n",
       "Essex             443\n",
       "Name: Hospital County, dtype: int64"
      ]
     },
     "execution_count": 10,
     "metadata": {},
     "output_type": "execute_result"
    }
   ],
   "source": [
    "# 3. How many hospitals are in each 'Hospital Country'?\n",
    "ins_df['Hospital County'].value_counts()"
   ]
  },
  {
   "cell_type": "code",
   "execution_count": 1,
   "id": "aa15913c",
   "metadata": {},
   "outputs": [
    {
     "ename": "NameError",
     "evalue": "name 'plt' is not defined",
     "output_type": "error",
     "traceback": [
      "\u001b[1;31m---------------------------------------------------------------------------\u001b[0m",
      "\u001b[1;31mNameError\u001b[0m                                 Traceback (most recent call last)",
      "Cell \u001b[1;32mIn[1], line 2\u001b[0m\n\u001b[0;32m      1\u001b[0m \u001b[38;5;66;03m# 4. Name of top 5 country having maximum number of hospitals\u001b[39;00m\n\u001b[1;32m----> 2\u001b[0m \u001b[43mplt\u001b[49m\u001b[38;5;241m.\u001b[39mfigure(figsize\u001b[38;5;241m=\u001b[39m(\u001b[38;5;241m10\u001b[39m,\u001b[38;5;241m5\u001b[39m))\n\u001b[0;32m      3\u001b[0m plt\u001b[38;5;241m.\u001b[39mbar(x\u001b[38;5;241m=\u001b[39m \u001b[38;5;28mlist\u001b[39m(ins_df[\u001b[38;5;124m'\u001b[39m\u001b[38;5;124mHospital County\u001b[39m\u001b[38;5;124m'\u001b[39m]\u001b[38;5;241m.\u001b[39mvalue_counts()[\u001b[38;5;241m0\u001b[39m:\u001b[38;5;241m5\u001b[39m]\u001b[38;5;241m.\u001b[39mkeys()),y\u001b[38;5;241m=\u001b[39m \u001b[38;5;28mlist\u001b[39m(ins_df[\u001b[38;5;124m'\u001b[39m\u001b[38;5;124mHospital County\u001b[39m\u001b[38;5;124m'\u001b[39m]\u001b[38;5;241m.\u001b[39mvalue_counts()[\u001b[38;5;241m0\u001b[39m:\u001b[38;5;241m5\u001b[39m]),\n\u001b[0;32m      4\u001b[0m         color\u001b[38;5;241m=\u001b[39m[\u001b[38;5;124m\"\u001b[39m\u001b[38;5;124mred\u001b[39m\u001b[38;5;124m\"\u001b[39m, \u001b[38;5;124m\"\u001b[39m\u001b[38;5;124myellow\u001b[39m\u001b[38;5;124m\"\u001b[39m, \u001b[38;5;124m\"\u001b[39m\u001b[38;5;124mblue\u001b[39m\u001b[38;5;124m\"\u001b[39m,\u001b[38;5;124m\"\u001b[39m\u001b[38;5;124mgreen\u001b[39m\u001b[38;5;124m\"\u001b[39m, \u001b[38;5;124m\"\u001b[39m\u001b[38;5;124mpink\u001b[39m\u001b[38;5;124m\"\u001b[39m])\n\u001b[0;32m      5\u001b[0m plt\u001b[38;5;241m.\u001b[39mshow()\n",
      "\u001b[1;31mNameError\u001b[0m: name 'plt' is not defined"
     ]
    }
   ],
   "source": [
    "# 4. Name of top 5 country having maximum number of hospitals\n",
    "plt.figure(figsize=(10,5))\n",
    "plt.bar(x= list(ins_df['Hospital County'].value_counts()[0:5].keys()),y= list(ins_df['Hospital County'].value_counts()[0:5]),\n",
    "        color=[\"red\", \"yellow\", \"blue\",\"green\", \"pink\"])\n",
    "plt.show()"
   ]
  },
  {
   "cell_type": "code",
   "execution_count": 12,
   "id": "6f41a03b",
   "metadata": {},
   "outputs": [
    {
     "data": {
      "text/plain": [
       "F    593506\n",
       "M    455019\n",
       "U        50\n",
       "Name: Gender, dtype: int64"
      ]
     },
     "execution_count": 12,
     "metadata": {},
     "output_type": "execute_result"
    }
   ],
   "source": [
    "# 5. How many patients are male and how many are female?\n",
    "ins_df['Gender'].value_counts()"
   ]
  },
  {
   "cell_type": "code",
   "execution_count": 13,
   "id": "723700b2",
   "metadata": {},
   "outputs": [
    {
     "data": {
      "text/plain": [
       "'White'"
      ]
     },
     "execution_count": 13,
     "metadata": {},
     "output_type": "execute_result"
    }
   ],
   "source": [
    "# 6. What is the most common cultural group among patients?\n",
    "ins_df['Cultural_group'].mode().values[0]"
   ]
  },
  {
   "cell_type": "code",
   "execution_count": 14,
   "id": "e7d3ce9e",
   "metadata": {},
   "outputs": [
    {
     "data": {
      "text/plain": [
       "'99'"
      ]
     },
     "execution_count": 14,
     "metadata": {},
     "output_type": "execute_result"
    }
   ],
   "source": [
    "# 7. What is the max number of days spent in the hospital?\n",
    "ins_df['Days_spend_hsptl'].max()"
   ]
  },
  {
   "cell_type": "code",
   "execution_count": 16,
   "id": "cffab77d",
   "metadata": {},
   "outputs": [
    {
     "data": {
      "image/png": "[encoded data removed]",
      "text/plain": [
       "<Figure size 640x480 with 1 Axes>"
      ]
     },
     "metadata": {},
     "output_type": "display_data"
    }
   ],
   "source": [
    "# 8.Top 5 description of the diagnosis-related group (DRG) who spend max days in hospital \n",
    "ins_df.groupby('apr_drg_description')['Days_spend_hsptl'].count().sort_values(ascending= False)[0:5].plot(kind='barh',\n",
    "                                                                            color=[\"red\", \"yellow\", \"blue\",\"green\", \"pink\"])\n",
    "plt.show()"
   ]
  },
  {
   "cell_type": "code",
   "execution_count": 17,
   "id": "dc0d3021",
   "metadata": {},
   "outputs": [
    {
     "data": {
      "text/plain": [
       "<Axes: >"
      ]
     },
     "execution_count": 17,
     "metadata": {},
     "output_type": "execute_result"
    },
    {
     "data": {
      "image/png": "[encoded data removed]",
      "text/plain": [
       "<Figure size 640x480 with 1 Axes>"
      ]
     },
     "metadata": {},
     "output_type": "display_data"
    }
   ],
   "source": [
    "# 9. What are the different admission types and their frequency\n",
    "ins_df['Admission_type'].value_counts().plot(kind='bar',color=[\"red\", \"yellow\", \"blue\",\"green\", \"pink\"])"
   ]
  },
  {
   "cell_type": "code",
   "execution_count": 18,
   "id": "e0a37505",
   "metadata": {},
   "outputs": [
    {
     "data": {
      "text/plain": [
       "218    90598\n",
       "2      36311\n",
       "657    34044\n",
       "203    28221\n",
       "122    26459\n",
       "Name: ccs_diagnosis_code, dtype: int64"
      ]
     },
     "execution_count": 18,
     "metadata": {},
     "output_type": "execute_result"
    }
   ],
   "source": [
    "# 10. Top 5 most common ccs_diagnosis_codes\n",
    "ins_df['ccs_diagnosis_code'].value_counts().head(5)"
   ]
  },
  {
   "cell_type": "code",
   "execution_count": 19,
   "id": "9d11b17f",
   "metadata": {},
   "outputs": [
    {
     "name": "stdout",
     "output_type": "stream",
     "text": [
      "Number of Medical Surgeries: 805729\n"
     ]
    }
   ],
   "source": [
    "# 11. How many surgeries are described as 'Major'?\n",
    "medical_surgeries_count = ins_df[ins_df['Surg_Description'] == 'Medical'].shape[0]\n",
    "print(\"Number of Medical Surgeries:\", medical_surgeries_count)"
   ]
  },
  {
   "cell_type": "code",
   "execution_count": 20,
   "id": "88448229",
   "metadata": {},
   "outputs": [
    {
     "name": "stdout",
     "output_type": "stream",
     "text": [
      "475.47442958300553\n"
     ]
    }
   ],
   "source": [
    "# 12. What is the average weight of babies?\n",
    "average_weight_baby = ins_df['Weight_baby'].mean()\n",
    "print(average_weight_baby)"
   ]
  },
  {
   "cell_type": "code",
   "execution_count": 21,
   "id": "c92fba92",
   "metadata": {},
   "outputs": [
    {
     "name": "stdout",
     "output_type": "stream",
     "text": [
      "1465\n"
     ]
    }
   ],
   "source": [
    "# 13. How many records indicate abortion?\n",
    "abortion_count = (ins_df['Abortion'] == 'Y').sum()\n",
    "print(abortion_count)"
   ]
  },
  {
   "cell_type": "code",
   "execution_count": 22,
   "id": "de57648c",
   "metadata": {},
   "outputs": [
    {
     "data": {
      "text/plain": [
       "<Axes: xlabel='Surg_Description'>"
      ]
     },
     "execution_count": 22,
     "metadata": {},
     "output_type": "execute_result"
    },
    {
     "data": {
      "image/png": "[encoded data removed]",
      "text/plain": [
       "<Figure size 640x480 with 1 Axes>"
      ]
     },
     "metadata": {},
     "output_type": "display_data"
    }
   ],
   "source": [
    "# 14. Avg total charge w.r.t surg_description \n",
    "ins_df.groupby('Surg_Description')['Tot_charg'].mean().plot(kind='bar',color=['red','yellow','blue'])"
   ]
  },
  {
   "cell_type": "code",
   "execution_count": 23,
   "id": "278dba23",
   "metadata": {},
   "outputs": [
    {
     "name": "stdout",
     "output_type": "stream",
     "text": [
      "Cases Involving Abortion: 1465\n"
     ]
    }
   ],
   "source": [
    "# 15. How many cases involve abortion ('Abortion')?\n",
    "abortion_cases = ins_df[ins_df['Abortion'] == 'Y'].shape[0]\n",
    "print(\"Cases Involving Abortion:\", abortion_cases)"
   ]
  },
  {
   "cell_type": "code",
   "execution_count": 24,
   "id": "bbf97fd4",
   "metadata": {},
   "outputs": [
    {
     "name": "stdout",
     "output_type": "stream",
     "text": [
      "Ration 0          1.012798\n",
      "1          1.079365\n",
      "2          1.059379\n",
      "3          1.484164\n",
      "4          0.986159\n",
      "             ...   \n",
      "1048570    0.199522\n",
      "1048571    0.288382\n",
      "1048572    0.236516\n",
      "1048573    0.245846\n",
      "1048574    0.200331\n",
      "Name: Cost_to_Charge_Ratio, Length: 1048575, dtype: float64\n"
     ]
    }
   ],
   "source": [
    "# 16. Calculate the ratio of 'Tot_cost' to 'Tot_charg' for each record.\n",
    "ins_df['Cost_to_Charge_Ratio'] = ins_df['Tot_cost'] / ins_df['Tot_charg']\n",
    "print('Ration',ins_df['Cost_to_Charge_Ratio'])"
   ]
  },
  {
   "cell_type": "code",
   "execution_count": 25,
   "id": "9dee5e84",
   "metadata": {},
   "outputs": [
    {
     "data": {
      "text/plain": [
       "1    786407\n",
       "0    262168\n",
       "Name: Result, dtype: int64"
      ]
     },
     "execution_count": 25,
     "metadata": {},
     "output_type": "execute_result"
    }
   ],
   "source": [
    "# 17. What is the frequency of result distribution\n",
    "ins_df['Result'].value_counts()"
   ]
  },
  {
   "cell_type": "code",
   "execution_count": 26,
   "id": "7f49eaa1",
   "metadata": {},
   "outputs": [
    {
     "data": {
      "text/plain": [
       "<Axes: >"
      ]
     },
     "execution_count": 26,
     "metadata": {},
     "output_type": "execute_result"
    },
    {
     "data": {
      "image/png": "[encoded data removed]",
      "text/plain": [
       "<Figure size 1000x600 with 1 Axes>"
      ]
     },
     "metadata": {},
     "output_type": "display_data"
    }
   ],
   "source": [
    "# 18. Plot the distribution of patients by age\n",
    "plt.figure(figsize=(10, 6))\n",
    "ins_df['Age'].hist(bins=20, alpha=0.5, label='Age', grid= False,)"
   ]
  },
  {
   "cell_type": "code",
   "execution_count": 27,
   "id": "2bc0af5a",
   "metadata": {},
   "outputs": [
    {
     "data": {
      "text/plain": [
       "['Emergency']"
      ]
     },
     "execution_count": 27,
     "metadata": {},
     "output_type": "execute_result"
    }
   ],
   "source": [
    "# 19. What are the most common admission types?\n",
    "list(ins_df['Admission_type'].value_counts()[0:1].keys())"
   ]
  },
  {
   "cell_type": "code",
   "execution_count": 28,
   "id": "cca10c19",
   "metadata": {},
   "outputs": [
    {
     "data": {
      "text/plain": [
       "['F']"
      ]
     },
     "execution_count": 28,
     "metadata": {},
     "output_type": "execute_result"
    }
   ],
   "source": [
    "# 20. Who spend more days in hospital male/female\n",
    "list(ins_df.groupby('Gender')['Days_spend_hsptl'].count()[0:1].keys())"
   ]
  },
  {
   "cell_type": "code",
   "execution_count": 29,
   "id": "9f8910b1",
   "metadata": {},
   "outputs": [
    {
     "data": {
      "image/png": "[encoded data removed]",
      "text/plain": [
       "<Figure size 640x480 with 1 Axes>"
      ]
     },
     "metadata": {},
     "output_type": "display_data"
    }
   ],
   "source": [
    "# 21. Top 5 country having maximum urgent case\n",
    "ins_df[ins_df.Admission_type=='Urgent']['Hospital County'].value_counts()[0:5].plot(kind='bar',\n",
    "                                                color=[\"red\", \"yellow\", \"blue\",\"green\", \"pink\"])\n",
    "plt.show()"
   ]
  },
  {
   "cell_type": "code",
   "execution_count": 30,
   "id": "0657c388",
   "metadata": {},
   "outputs": [
    {
     "data": {
      "image/png": "[encoded data removed]",
      "text/plain": [
       "<Figure size 640x480 with 1 Axes>"
      ]
     },
     "metadata": {},
     "output_type": "display_data"
    }
   ],
   "source": [
    "# 22.Frequency of urgent case in male and female\n",
    "ins_df[ins_df.Admission_type=='Urgent']['Gender'].value_counts().plot(kind='bar',\n",
    "                                            color=[\"red\", \"yellow\"])\n",
    "plt.show()"
   ]
  },
  {
   "cell_type": "code",
   "execution_count": 31,
   "id": "b5e82134",
   "metadata": {},
   "outputs": [
    {
     "data": {
      "image/png": "[encoded data removed]",
      "text/plain": [
       "<Figure size 640x480 with 1 Axes>"
      ]
     },
     "metadata": {},
     "output_type": "display_data"
    }
   ],
   "source": [
    "# 23. Frequency of days spend in hspital age_wise\n",
    "ins_df.groupby('Age')['Days_spend_hsptl'].count().sort_values(ascending=False).plot(kind='bar',\n",
    "                                                color=[\"red\", \"yellow\", \"blue\",\"green\", \"pink\"])\n",
    "plt.show()"
   ]
  },
  {
   "cell_type": "code",
   "execution_count": 32,
   "id": "83e717d2",
   "metadata": {},
   "outputs": [
    {
     "data": {
      "text/plain": [
       "Emergency        228990\n",
       "Elective          47020\n",
       "Urgent            29324\n",
       "Trauma              478\n",
       "Not Available       200\n",
       "Newborn               5\n",
       "Name: Admission_type, dtype: int64"
      ]
     },
     "execution_count": 32,
     "metadata": {},
     "output_type": "execute_result"
    }
   ],
   "source": [
    "# 24.Frequency of Admission_type having age 70 or Older\n",
    "ins_df[ins_df.Age=='70 or Older']['Admission_type'].value_counts()"
   ]
  },
  {
   "cell_type": "code",
   "execution_count": 33,
   "id": "db328b47",
   "metadata": {},
   "outputs": [
    {
     "data": {
      "text/plain": [
       "['70 or Older']"
      ]
     },
     "execution_count": 33,
     "metadata": {},
     "output_type": "execute_result"
    }
   ],
   "source": [
    "# 25.Find out which age group spend more time in hsptl\n",
    "list(ins_df.groupby('Age')['Days_spend_hsptl'].count().sort_values(ascending=False)[0:1].keys())"
   ]
  },
  {
   "cell_type": "code",
   "execution_count": 34,
   "id": "f6d9e28b",
   "metadata": {},
   "outputs": [
    {
     "data": {
      "text/plain": [
       "['18 to 29']"
      ]
     },
     "execution_count": 34,
     "metadata": {},
     "output_type": "execute_result"
    }
   ],
   "source": [
    "# 26.Find out which age group spend less time in hsptl\n",
    "list(ins_df.groupby('Age')['Days_spend_hsptl'].count().sort_values(ascending=True)[0:1].keys())"
   ]
  },
  {
   "cell_type": "code",
   "execution_count": 35,
   "id": "c87f14a5",
   "metadata": {},
   "outputs": [
    {
     "data": {
      "text/html": [
       "<div>\n",
       "<style scoped>\n",
       "    .dataframe tbody tr th:only-of-type {\n",
       "        vertical-align: middle;\n",
       "    }\n",
       "\n",
       "    .dataframe tbody tr th {\n",
       "        vertical-align: top;\n",
       "    }\n",
       "\n",
       "    .dataframe thead th {\n",
       "        text-align: right;\n",
       "    }\n",
       "</style>\n",
       "<table border=\"1\" class=\"dataframe\">\n",
       "  <thead>\n",
       "    <tr style=\"text-align: right;\">\n",
       "      <th></th>\n",
       "      <th>Admission_type</th>\n",
       "      <th>Tot_charg</th>\n",
       "    </tr>\n",
       "  </thead>\n",
       "  <tbody>\n",
       "    <tr>\n",
       "      <th>970410</th>\n",
       "      <td>Emergency</td>\n",
       "      <td>6196973.5</td>\n",
       "    </tr>\n",
       "  </tbody>\n",
       "</table>\n",
       "</div>"
      ],
      "text/plain": [
       "       Admission_type  Tot_charg\n",
       "970410      Emergency  6196973.5"
      ]
     },
     "execution_count": 35,
     "metadata": {},
     "output_type": "execute_result"
    }
   ],
   "source": [
    "# 27. Find out which admission type has max tot charg \n",
    "ins_df[['Admission_type','Tot_charg']].sort_values(by='Tot_charg',ascending=False)[0:1]"
   ]
  },
  {
   "cell_type": "code",
   "execution_count": 36,
   "id": "31c544da",
   "metadata": {},
   "outputs": [
    {
     "data": {
      "image/png": "[encoded data removed]",
      "text/plain": [
       "<Figure size 640x480 with 1 Axes>"
      ]
     },
     "metadata": {},
     "output_type": "display_data"
    }
   ],
   "source": [
    "# 28. Plot distribution of age w.r.t admission type \n",
    "sns.countplot(x='Age',data= ins_df, hue= 'Admission_type')\n",
    "plt.show()"
   ]
  },
  {
   "cell_type": "code",
   "execution_count": null,
   "id": "e5073c64",
   "metadata": {},
   "outputs": [],
   "source": [
    "1. How many rows and columns are in the dataset?\n",
    "2. What are the unique values in the 'Area_Service' column?\n",
    "3. How many hospitals are in each 'Hospital Country'?\n",
    "4. Name of top 5 country having maximum number of hospitals\n",
    "5. How many patients are male and how many are female?\n",
    "6. What is the most common cultural group among patients?\n",
    "7. What is the max number of days spent in the hospital?\n",
    "8.Top 5 description of the diagnosis-related group (DRG) who spend max days in hospital \n",
    "9. What are the different admission types and their frequency\n",
    "10. Top 5 most common ccs_diagnosis_codes\n",
    "11. How many surgeries are described as 'Major'?\n",
    "12. What is the average weight of babies?\n",
    "13. How many records indicate abortion?\n",
    "14. Avg total charge w.r.t surg_description \n",
    "15. How many cases involve abortion ('Abortion')?\n",
    "16. Calculate the ratio of 'Tot_cost' to 'Tot_charg' for each record.\n",
    "17. What is the frequency of result distribution\n",
    "18. Plot the distribution of patients by age\n",
    "19. What are the most common admission types?\n",
    "20. Who spend more days in hospital male/female\n",
    "21. Top 5 country having maximum urgent case\n",
    "22.Frequency of urgent case in male and female\n",
    "23. Frequency of days spend in hspital age_wise\n",
    "24.Frequency of Admission_type having age 70 or Older\n",
    "25.Find out which age group spend more time in hsptl\n",
    "26.Find out which age group spend less time in hsptl\n",
    "27. Find out which admission type has max tot charg\n",
    "28. Plot distribution of age w.r.t admission type "
   ]
  }
 ],
 "metadata": {
  "kernelspec": {
   "display_name": "Python 3 (ipykernel)",
   "language": "python",
   "name": "python3"
  },
  "language_info": {
   "codemirror_mode": {
    "name": "ipython",
    "version": 3
   },
   "file_extension": ".py",
   "mimetype": "text/x-python",
   "name": "python",
   "nbconvert_exporter": "python",
   "pygments_lexer": "ipython3",
   "version": "3.10.9"
  }
 },
 "nbformat": 4,
 "nbformat_minor": 5
}
